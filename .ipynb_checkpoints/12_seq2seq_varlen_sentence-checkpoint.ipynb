{
 "cells": [
  {
   "cell_type": "code",
   "execution_count": 35,
   "metadata": {},
   "outputs": [],
   "source": [
    "import tensorflow as tf\n",
    "import numpy as np"
   ]
  },
  {
   "cell_type": "code",
   "execution_count": 36,
   "metadata": {},
   "outputs": [],
   "source": [
    "english = [['I',' ','am',' ','a',' ','boy'], ['I',' ','am',' ','a',' ','girl'], ['How',' ','often',' ','do',' ','you',' ','eat',' ','per',' ','day','?'], ['You',' ','are',' ','so',' ','beautiful'], ['Would', ' ', 'you', ' ', 'mind', ' ', 'helping', ' ', 'me', ' ', 'out', '?'], ['deep', ' ', 'learning', ' ', 'is', ' ', 'really', ' ', 'funny', '.']]\n",
    "korean = [['나','는', ' ', '소년','이다', '.'], ['나','는', ' ', '소녀', '다', '.'], ['하루에', ' ', '얼마나', ' ', '자주', ' ', '드십니까','?'], ['당신','은', ' ', '너무', ' ', '아름답다', '.'], ['혹시', ' ', '도와', ' ', '주실', ' ', '수', ' ', '있나요', '?'], ['딥러닝', ' ', '진짜', ' ', '재밌네', '.']]\n",
    "seq_data = np.stack((english, korean), 1)"
   ]
  },
  {
   "cell_type": "code",
   "execution_count": 39,
   "metadata": {},
   "outputs": [
    {
     "data": {
      "text/plain": [
       "array([[list(['I', ' ', 'am', ' ', 'a', ' ', 'boy']),\n",
       "        list(['나', '는', ' ', '소년', '이다', '.'])],\n",
       "       [list(['I', ' ', 'am', ' ', 'a', ' ', 'girl']),\n",
       "        list(['나', '는', ' ', '소녀', '다', '.'])],\n",
       "       [list(['How', ' ', 'often', ' ', 'do', ' ', 'you', ' ', 'eat', ' ', 'per', ' ', 'day', '?']),\n",
       "        list(['하루에', ' ', '얼마나', ' ', '자주', ' ', '드십니까', '?'])],\n",
       "       [list(['You', ' ', 'are', ' ', 'so', ' ', 'beautiful']),\n",
       "        list(['당신', '은', ' ', '너무', ' ', '아름답다', '.'])],\n",
       "       [list(['Would', ' ', 'you', ' ', 'mind', ' ', 'helping', ' ', 'me', ' ', 'out', '?']),\n",
       "        list(['혹시', ' ', '도와', ' ', '주실', ' ', '수', ' ', '있나요', '?'])],\n",
       "       [list(['deep', ' ', 'learning', ' ', 'is', ' ', 'really', ' ', 'funny', '.']),\n",
       "        list(['딥러닝', ' ', '진짜', ' ', '재밌네', '.'])]], dtype=object)"
      ]
     },
     "execution_count": 39,
     "metadata": {},
     "output_type": "execute_result"
    }
   ],
   "source": [
    "seq_data"
   ]
  },
  {
   "cell_type": "code",
   "execution_count": 37,
   "metadata": {},
   "outputs": [],
   "source": [
    "word_arr = []\n",
    "for sents in seq_data:\n",
    "    for seq in sents:\n",
    "        word_arr += seq\n",
    "word_arr += ['<S>', '</S>', '<P>']\n",
    "word2num = {c:i for i, c in enumerate(set(word_arr))}\n",
    "num2word = {i:c for i, c in enumerate(word2num.keys())}\n",
    "dic_len = len(word2num)"
   ]
  },
  {
   "cell_type": "code",
   "execution_count": 21,
   "metadata": {},
   "outputs": [],
   "source": [
    "def get_max_length(seq_data):\n",
    "    max_len = 0\n",
    "    for seq in seq_data:\n",
    "        if max_len < len(seq):\n",
    "            max_len = len(seq)\n",
    "    return max_len"
   ]
  },
  {
   "cell_type": "code",
   "execution_count": 22,
   "metadata": {},
   "outputs": [],
   "source": [
    "def make_batch(seq_data, enc_max_len, dec_max_len):\n",
    "    input_batch = []\n",
    "    output_batch = []\n",
    "    target_batch = []\n",
    "    for i, seq in enumerate(seq_data):\n",
    "        input = []\n",
    "        output = []\n",
    "        target = []\n",
    "        for token in seq[0]:\n",
    "            input.append(word2num[token])\n",
    "        for _ in range(len(seq[0]), enc_max_len):\n",
    "            input.append(word2num['<P>'])\n",
    "        input_batch.append(np.eye(dic_len)[input])\n",
    "        output.append(word2num['<S>'])\n",
    "        for token in seq[1]:\n",
    "            output.append(word2num[token])\n",
    "            target.append(word2num[token])\n",
    "        target.append(word2num['</S>'])\n",
    "        for _ in range(len(seq[1]), dec_max_len):\n",
    "            output.append(word2num['</S>'])\n",
    "            target.append(word2num['</S>'])\n",
    "                \n",
    "        output_batch.append(np.eye(dic_len)[output])\n",
    "        target_batch.append(target)\n",
    "\n",
    "    return input_batch, output_batch, target_batch"
   ]
  },
  {
   "cell_type": "code",
   "execution_count": 23,
   "metadata": {},
   "outputs": [],
   "source": [
    "def get_seq_length(seq_data):\n",
    "    seq_len = []\n",
    "    for i, seq in enumerate(seq_data):\n",
    "        seq_len.append(len(seq))\n",
    "    return seq_len"
   ]
  },
  {
   "cell_type": "code",
   "execution_count": 24,
   "metadata": {},
   "outputs": [],
   "source": [
    "learning_rate = 1e-3\n",
    "n_hidden = 256\n",
    "max_enc_step = get_max_length(english)\n",
    "max_dec_step = get_max_length(korean)\n",
    "total_epoch = 100\n",
    "n_class = n_input = dic_len\n",
    "batch_size = len(english)"
   ]
  },
  {
   "cell_type": "code",
   "execution_count": 25,
   "metadata": {},
   "outputs": [],
   "source": [
    "tf.reset_default_graph()\n",
    "enc_input = tf.placeholder(tf.float32, [None, None, n_input])\n",
    "dec_input = tf.placeholder(tf.float32, [None, None, n_input])\n",
    "targets = tf.placeholder(tf.int64, [None, None])\n",
    "enc_seq_len = tf.placeholder(dtype=tf.int32, shape=[None])\n",
    "dec_seq_len = tf.placeholder(dtype=tf.int32, shape=[None])"
   ]
  },
  {
   "cell_type": "code",
   "execution_count": 26,
   "metadata": {},
   "outputs": [],
   "source": [
    "with tf.variable_scope('encode'):\n",
    "    enc_cell = tf.nn.rnn_cell.BasicRNNCell(n_hidden)\n",
    "    #enc_cell = tf.nn.rnn_cell.DropoutWrapper(enc_cell, output_keep_prob=0.5)\n",
    "    outputs, enc_states = tf.nn.dynamic_rnn(enc_cell, enc_input, sequence_length=enc_seq_len, dtype=tf.float32)"
   ]
  },
  {
   "cell_type": "code",
   "execution_count": 27,
   "metadata": {},
   "outputs": [],
   "source": [
    "#idx = tf.range(tf.shape(outputs)[0])*tf.shape(outputs)[1] + (enc_seq_len - 1)\n",
    "#idx = tf.cast(tf.reduce_sum(tf.one_hot(idx, tf.shape(outputs)[0]*tf.shape(outputs)[1]), 0), tf.int32)\n",
    "#outputs = tf.dynamic_partition(tf.reshape(outputs, [-1, n_hidden]), idx, 2)\n",
    "#last_enc_states = outputs[1]"
   ]
  },
  {
   "cell_type": "code",
   "execution_count": 28,
   "metadata": {},
   "outputs": [],
   "source": [
    "with tf.variable_scope('decode'):\n",
    "    dec_cell = tf.nn.rnn_cell.BasicRNNCell(n_hidden)\n",
    "    #dec_cell = tf.nn.rnn_cell.DropoutWrapper(dec_cell, output_keep_prob=0.5)\n",
    "    outputs, dec_states = tf.nn.dynamic_rnn(dec_cell, dec_input, initial_state = enc_states, dtype=tf.float32)"
   ]
  },
  {
   "cell_type": "code",
   "execution_count": 29,
   "metadata": {},
   "outputs": [],
   "source": [
    "logits = tf.layers.dense(outputs, n_class, activation=None)"
   ]
  },
  {
   "cell_type": "code",
   "execution_count": 30,
   "metadata": {},
   "outputs": [],
   "source": [
    "cost = tf.reduce_mean(tf.contrib.seq2seq.sequence_loss(logits=logits, targets=targets, weights=tf.sequence_mask(dec_seq_len+1, max_dec_step+1, dtype=tf.float32)))\n",
    "predict = tf.argmax(logits, 2)"
   ]
  },
  {
   "cell_type": "code",
   "execution_count": 31,
   "metadata": {},
   "outputs": [],
   "source": [
    "optimizer = tf.train.AdamOptimizer(learning_rate).minimize(cost)"
   ]
  },
  {
   "cell_type": "code",
   "execution_count": 32,
   "metadata": {},
   "outputs": [
    {
     "name": "stdout",
     "output_type": "stream",
     "text": [
      "Epoch: 010 cost = 1.077412\n",
      "['나는 소녀이다.', '나는 소녀이다.', '하루에 얼마나 주실 ', '나는 너무 ..', '혹시 도와 주실 ', '하루에 진짜 주실.']\n",
      "Epoch: 020 cost = 0.268277\n",
      "['나는 소년이다.', '나는 소녀다.', '하루에 얼마나 자주 드십니까?', '당신은 너무 아름답다.', '혹시 도와 주실 수 있나요?', '딥러닝 진짜 재밌네.']\n",
      "Epoch: 030 cost = 0.092709\n",
      "['나는 소년이다.', '나는 소년다.', '하루에 얼마나 자주 드십니까?', '당신은 너무 아름답다.', '혹시 도와 주실 수 있나요?', '딥러닝 진짜 재밌네.']\n",
      "Epoch: 040 cost = 0.061266\n",
      "['나는 소년이다.', '나는 소녀다.', '하루에 얼마나 자주 드십니까?', '당신은 너무 아름답다.', '혹시 도와 주실 수 있나요?', '딥러닝 진짜 재밌네.']\n",
      "Epoch: 050 cost = 0.049847\n",
      "['나는 소년이다.', '나는 소녀다.', '하루에 얼마나 자주 드십니까?', '당신은 너무 아름답다.', '혹시 도와 주실 수 있나요?', '딥러닝 진짜 재밌네.']\n",
      "Epoch: 060 cost = 0.040163\n",
      "['나는 소년이다.', '나는 소녀다.', '하루에 얼마나 자주 드십니까?', '당신은 너무 아름답다.', '혹시 도와 주실 수 있나요?', '딥러닝 진짜 재밌네.']\n",
      "Epoch: 070 cost = 0.026008\n",
      "['나는 소년이다.', '나는 소녀다.', '하루에 얼마나 자주 드십니까?', '당신은 너무 아름답다.', '혹시 도와 주실 수 있나요?', '딥러닝 진짜 재밌네.']\n",
      "Epoch: 080 cost = 0.011238\n",
      "['나는 소년이다.', '나는 소녀다.', '하루에 얼마나 자주 드십니까?', '당신은 너무 아름답다.', '혹시 도와 주실 수 있나요?', '딥러닝 진짜 재밌네.']\n",
      "Epoch: 090 cost = 0.006324\n",
      "['나는 소년이다.', '나는 소녀다.', '하루에 얼마나 자주 드십니까?', '당신은 너무 아름답다.', '혹시 도와 주실 수 있나요?', '딥러닝 진짜 재밌네.']\n",
      "Epoch: 100 cost = 0.004755\n",
      "['나는 소년이다.', '나는 소녀다.', '하루에 얼마나 자주 드십니까?', '당신은 너무 아름답다.', '혹시 도와 주실 수 있나요?', '딥러닝 진짜 재밌네.']\n",
      "optimization finished!\n"
     ]
    }
   ],
   "source": [
    "config = tf.ConfigProto()\n",
    "config.gpu_options.allow_growth = True\n",
    "sess = tf.Session(config=config)\n",
    "sess = tf.Session()\n",
    "sess.run(tf.global_variables_initializer())\n",
    "\n",
    "input_batch, output_batch, target_batch = make_batch(seq_data, max_enc_step, max_dec_step)\n",
    "enc_seq_data = get_seq_length(english)\n",
    "dec_seq_data = get_seq_length(korean)\n",
    "\n",
    "for epoch in range(total_epoch):\n",
    "    _, loss = sess.run([optimizer, cost], feed_dict={enc_input: input_batch, dec_input: output_batch, targets: target_batch, enc_seq_len: enc_seq_data, dec_seq_len: dec_seq_data})\n",
    "    if epoch % 10 == 9:\n",
    "        result = sess.run(predict, feed_dict={enc_input: input_batch, dec_input: output_batch, targets: target_batch, enc_seq_len: enc_seq_data, dec_seq_len: dec_seq_data})\n",
    "        translation = []\n",
    "        for i in range(len(result)):\n",
    "            decoded = [num2word[j] for j in result[i]]\n",
    "            end = len(decoded)-1\n",
    "            if '</S>' in decoded:\n",
    "                end = decoded.index('</S>')\n",
    "            translated = ''.join(decoded[:end])\n",
    "            translation.append(translated)\n",
    "        print('Epoch:', '%03d' % (epoch+1), 'cost =', '{:.6f}'.format(loss))\n",
    "        print(translation)\n",
    "print('optimization finished!')"
   ]
  },
  {
   "cell_type": "code",
   "execution_count": 33,
   "metadata": {},
   "outputs": [],
   "source": [
    "def translate(english):\n",
    "    english = [english]\n",
    "    korean = [['<P>']*max_dec_step]\n",
    "    seq_data = [english + korean]\n",
    "    input_batch, output_batch, target_batch = make_batch(seq_data, max_enc_step, max_dec_step)\n",
    "    enc_seq_data = get_seq_length(english)\n",
    "    dec_seq_data = get_seq_length(korean)\n",
    "    result = sess.run(predict, feed_dict={enc_input: input_batch, dec_input: output_batch, targets: target_batch, enc_seq_len: enc_seq_data, dec_seq_len: dec_seq_data})\n",
    "    decoded = [num2word[j] for j in np.squeeze(result)]\n",
    "    end = len(decoded)-1\n",
    "    if '</S>' in decoded:\n",
    "        end = decoded.index('</S>')\n",
    "    translated = ''.join(decoded[:end])\n",
    "    return translated"
   ]
  },
  {
   "cell_type": "code",
   "execution_count": 34,
   "metadata": {},
   "outputs": [
    {
     "name": "stdout",
     "output_type": "stream",
     "text": [
      "I am a boy -> 나는 소년이다.\n",
      "I am a girl -> 나는 소녀다.\n",
      "How often do you eat per day? -> 하루에 얼마나 자주 드십니까?\n",
      "You are so beautiful -> 당신은 너무 아름답다.\n",
      "Would you mind helping me out? -> 혹시 도와 주실 수 있나요?\n",
      "deep learning is really funny. -> 딥러닝 진짜 재밌네.\n"
     ]
    }
   ],
   "source": [
    "for seq in english:\n",
    "    temp = ''\n",
    "    for token in seq:\n",
    "        temp += token\n",
    "    #print(temp)\n",
    "    print(temp, '->', translate(seq))"
   ]
  }
 ],
 "metadata": {
  "kernelspec": {
   "display_name": "Python tensor",
   "language": "python",
   "name": "myenv"
  },
  "language_info": {
   "codemirror_mode": {
    "name": "ipython",
    "version": 3
   },
   "file_extension": ".py",
   "mimetype": "text/x-python",
   "name": "python",
   "nbconvert_exporter": "python",
   "pygments_lexer": "ipython3",
   "version": "3.6.5"
  }
 },
 "nbformat": 4,
 "nbformat_minor": 2
}
