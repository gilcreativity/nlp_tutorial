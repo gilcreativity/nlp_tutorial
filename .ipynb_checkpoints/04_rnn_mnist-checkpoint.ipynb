{
 "cells": [
  {
   "cell_type": "code",
   "execution_count": 1,
   "metadata": {},
   "outputs": [],
   "source": [
    "import tensorflow as tf"
   ]
  },
  {
   "cell_type": "code",
   "execution_count": 2,
   "metadata": {},
   "outputs": [
    {
     "name": "stdout",
     "output_type": "stream",
     "text": [
      "Extracting ./mnist/data/train-images-idx3-ubyte.gz\n",
      "Extracting ./mnist/data/train-labels-idx1-ubyte.gz\n",
      "Extracting ./mnist/data/t10k-images-idx3-ubyte.gz\n",
      "Extracting ./mnist/data/t10k-labels-idx1-ubyte.gz\n"
     ]
    }
   ],
   "source": [
    "from tensorflow.examples.tutorials.mnist import input_data\n",
    "mnist = input_data.read_data_sets(\"./mnist/data/\", one_hot=True)"
   ]
  },
  {
   "cell_type": "code",
   "execution_count": 3,
   "metadata": {},
   "outputs": [],
   "source": [
    "learning_rate = 0.001\n",
    "total_epoch = 30\n",
    "batch_size = 128"
   ]
  },
  {
   "cell_type": "code",
   "execution_count": 4,
   "metadata": {},
   "outputs": [],
   "source": [
    "n_input = 28\n",
    "n_step = 28\n",
    "n_hidden = 128\n",
    "n_class = 10"
   ]
  },
  {
   "cell_type": "code",
   "execution_count": 5,
   "metadata": {},
   "outputs": [],
   "source": [
    "tf.reset_default_graph()\n",
    "# placeholder\n",
    "X = tf.placeholder(dtype=tf.float32, shape=[None, n_step, n_input])\n",
    "Y = tf.placeholder(dtype=tf.float32, shape=[None, n_class])"
   ]
  },
  {
   "cell_type": "code",
   "execution_count": 6,
   "metadata": {},
   "outputs": [],
   "source": [
    "# weights & bias\n",
    "W = tf.Variable(tf.truncated_normal([n_hidden, n_class]))\n",
    "b = tf.Variable(tf.truncated_normal([n_class]))"
   ]
  },
  {
   "cell_type": "code",
   "execution_count": 7,
   "metadata": {},
   "outputs": [],
   "source": [
    "# rnn cell\n",
    "cell = tf.nn.rnn_cell.BasicRNNCell(n_hidden)\n",
    "_, states = tf.nn.dynamic_rnn(cell, X, dtype=tf.float32)"
   ]
  },
  {
   "cell_type": "code",
   "execution_count": 9,
   "metadata": {},
   "outputs": [],
   "source": [
    "# logits\n",
    "logits = tf.matmul(states, W) + b"
   ]
  },
  {
   "cell_type": "code",
   "execution_count": null,
   "metadata": {},
   "outputs": [],
   "source": [
    "# cost\n",
    "cost = tf.reduce_mean(tf.nn.softmax_cross_entropy_with_logits(logits=logits, labels=Y))"
   ]
  },
  {
   "cell_type": "code",
   "execution_count": null,
   "metadata": {},
   "outputs": [],
   "source": [
    "# optimizer\n",
    "optimizer = tf.train.AdamOptimizer(learning_rate).minimize(cost)"
   ]
  },
  {
   "cell_type": "code",
   "execution_count": null,
   "metadata": {},
   "outputs": [],
   "source": [
    "# prediction\n",
    "prediction = tf.argmax(logits, 1)"
   ]
  },
  {
   "cell_type": "code",
   "execution_count": null,
   "metadata": {},
   "outputs": [],
   "source": [
    "correct = tf.equal(tf.argmax(logits, 1), tf.argmax(Y, 1))\n",
    "accuracy = tf.reduce_mean(tf.cast(correct, tf.float32))"
   ]
  },
  {
   "cell_type": "code",
   "execution_count": 11,
   "metadata": {},
   "outputs": [],
   "source": [
    "config = tf.ConfigProto()\n",
    "config.gpu_options.allow_growth = True\n",
    "sess = tf.Session(config=config)\n",
    "sess.run(tf.global_variables_initializer())"
   ]
  },
  {
   "cell_type": "code",
   "execution_count": 12,
   "metadata": {},
   "outputs": [],
   "source": [
    "total_batch = int(mnist.train.num_examples / batch_size)"
   ]
  },
  {
   "cell_type": "code",
   "execution_count": 13,
   "metadata": {},
   "outputs": [
    {
     "name": "stdout",
     "output_type": "stream",
     "text": [
      "Epoch: 0001 Avg cost = 0.477\n",
      "Epoch: 0002 Avg cost = 0.218\n",
      "Epoch: 0003 Avg cost = 0.174\n",
      "Epoch: 0004 Avg cost = 0.155\n",
      "Epoch: 0005 Avg cost = 0.135\n",
      "Epoch: 0006 Avg cost = 0.123\n",
      "Epoch: 0007 Avg cost = 0.116\n",
      "Epoch: 0008 Avg cost = 0.110\n",
      "Epoch: 0009 Avg cost = 0.105\n",
      "Epoch: 0010 Avg cost = 0.097\n",
      "Epoch: 0011 Avg cost = 0.097\n",
      "Epoch: 0012 Avg cost = 0.089\n",
      "Epoch: 0013 Avg cost = 0.083\n",
      "Epoch: 0014 Avg cost = 0.088\n",
      "Epoch: 0015 Avg cost = 0.081\n",
      "Epoch: 0016 Avg cost = 0.079\n",
      "Epoch: 0017 Avg cost = 0.080\n",
      "Epoch: 0018 Avg cost = 0.074\n",
      "Epoch: 0019 Avg cost = 0.075\n",
      "Epoch: 0020 Avg cost = 0.068\n",
      "Epoch: 0021 Avg cost = 0.069\n",
      "Epoch: 0022 Avg cost = 0.070\n",
      "Epoch: 0023 Avg cost = 0.068\n",
      "Epoch: 0024 Avg cost = 0.064\n",
      "Epoch: 0025 Avg cost = 0.066\n",
      "Epoch: 0026 Avg cost = 0.075\n",
      "Epoch: 0027 Avg cost = 0.068\n",
      "Epoch: 0028 Avg cost = 0.057\n",
      "Epoch: 0029 Avg cost = 0.064\n",
      "Epoch: 0030 Avg cost = 0.064\n",
      "optimization finished!\n"
     ]
    }
   ],
   "source": [
    "for epoch in range(total_epoch):\n",
    "    total_cost = 0\n",
    "    \n",
    "    for i in range(total_batch):\n",
    "        batch_xs, batch_ys = mnist.train.next_batch(batch_size)\n",
    "        batch_xs = batch_xs.reshape((batch_size, n_step, n_input))\n",
    "        _, cost_val = sess.run([optimizer, cost], feed_dict={X: batch_xs, Y: batch_ys})\n",
    "        total_cost += cost_val\n",
    "    \n",
    "    print('Epoch:', '%04d' % (epoch+1), 'Avg cost =', '{:.3f}'.format(total_cost/total_batch))\n",
    "    \n",
    "print('optimization finished!')"
   ]
  },
  {
   "cell_type": "code",
   "execution_count": 14,
   "metadata": {},
   "outputs": [
    {
     "name": "stdout",
     "output_type": "stream",
     "text": [
      "accuracy: 0.9686\n"
     ]
    }
   ],
   "source": [
    "test_batch_size = len(mnist.test.images)\n",
    "test_xs = mnist.test.images.reshape(test_batch_size, n_step, n_input)\n",
    "test_ys = mnist.test.labels\n",
    "print('accuracy:', sess.run(accuracy, feed_dict={X: test_xs, Y: test_ys}))"
   ]
  }
 ],
 "metadata": {
  "kernelspec": {
   "display_name": "Python tensor",
   "language": "python",
   "name": "tensor"
  },
  "language_info": {
   "codemirror_mode": {
    "name": "ipython",
    "version": 3
   },
   "file_extension": ".py",
   "mimetype": "text/x-python",
   "name": "python",
   "nbconvert_exporter": "python",
   "pygments_lexer": "ipython3",
   "version": "3.6.5"
  }
 },
 "nbformat": 4,
 "nbformat_minor": 2
}
