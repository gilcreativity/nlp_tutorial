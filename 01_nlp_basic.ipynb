{
 "cells": [
  {
   "cell_type": "markdown",
   "metadata": {},
   "source": [
    "<h1>1. Sentiment Analysis with Logistic Regression using scikit-learn</h1>"
   ]
  },
  {
   "cell_type": "markdown",
   "metadata": {},
   "source": [
    "<h2>1-1. Without preprocessing</h2>"
   ]
  },
  {
   "cell_type": "code",
   "execution_count": null,
   "metadata": {},
   "outputs": [],
   "source": [
    "import numpy as np\n",
    "import pandas as pd"
   ]
  },
  {
   "cell_type": "code",
   "execution_count": null,
   "metadata": {},
   "outputs": [],
   "source": [
    "train = pd.read_csv('ratings_train.txt', delimiter='\\t')\n",
    "test = pd.read_csv('ratings_test.txt', delimiter='\\t')"
   ]
  },
  {
   "cell_type": "code",
   "execution_count": null,
   "metadata": {},
   "outputs": [],
   "source": [
    "train.loc[0:4,:]"
   ]
  },
  {
   "cell_type": "code",
   "execution_count": null,
   "metadata": {},
   "outputs": [],
   "source": [
    "from sklearn.feature_extraction.text import CountVectorizer\n",
    "vect = CountVectorizer(ngram_range=(1,1), binary=True).fit(train.document.values.astype('U'))\n",
    "X_train = vect.transform(train.document.values.astype('U'))\n",
    "X_test = vect.transform(test.document.values.astype('U'))"
   ]
  },
  {
   "cell_type": "code",
   "execution_count": null,
   "metadata": {},
   "outputs": [],
   "source": [
    "X_train[0].toarray()"
   ]
  },
  {
   "cell_type": "code",
   "execution_count": null,
   "metadata": {},
   "outputs": [],
   "source": [
    "temp = vect.transform(['영화 너무 재미없다.'])"
   ]
  },
  {
   "cell_type": "code",
   "execution_count": null,
   "metadata": {},
   "outputs": [],
   "source": [
    "print(temp)"
   ]
  },
  {
   "cell_type": "code",
   "execution_count": null,
   "metadata": {},
   "outputs": [],
   "source": [
    "print(len(vect.vocabulary_))\n",
    "print(X_train.shape)"
   ]
  },
  {
   "cell_type": "code",
   "execution_count": null,
   "metadata": {},
   "outputs": [],
   "source": [
    "y_train = train.label.values\n",
    "y_test = test.label.values"
   ]
  },
  {
   "cell_type": "code",
   "execution_count": null,
   "metadata": {},
   "outputs": [],
   "source": [
    "print(X_train.shape)\n",
    "print(y_train.shape)\n",
    "print(X_test.shape)\n",
    "print(y_test.shape)"
   ]
  },
  {
   "cell_type": "code",
   "execution_count": null,
   "metadata": {},
   "outputs": [],
   "source": [
    "from sklearn.linear_model import LogisticRegression\n",
    "logReg = LogisticRegression()\n",
    "logReg.fit(X_train, y_train)"
   ]
  },
  {
   "cell_type": "code",
   "execution_count": null,
   "metadata": {},
   "outputs": [],
   "source": [
    "print(logReg.score(X_train, y_train))\n",
    "print(logReg.score(X_test, y_test))"
   ]
  },
  {
   "cell_type": "code",
   "execution_count": null,
   "metadata": {},
   "outputs": [],
   "source": [
    "logReg.predict(X_test)"
   ]
  },
  {
   "cell_type": "code",
   "execution_count": null,
   "metadata": {},
   "outputs": [],
   "source": [
    "print(len(vect.vocabulary_))"
   ]
  },
  {
   "cell_type": "code",
   "execution_count": null,
   "metadata": {},
   "outputs": [],
   "source": [
    "logReg_v2 = LogisticRegression()\n",
    "logReg_v2.fit(X_train_v2, y_train)"
   ]
  },
  {
   "cell_type": "code",
   "execution_count": null,
   "metadata": {},
   "outputs": [],
   "source": [
    "print(logReg_v2.score(X_train_v2, y_train))\n",
    "print(logReg_v2.score(X_test_v2, y_test))"
   ]
  },
  {
   "cell_type": "markdown",
   "metadata": {},
   "source": [
    "<h2>1-2. With Preprocessing using Konlpy Twitter</h2>"
   ]
  },
  {
   "cell_type": "code",
   "execution_count": null,
   "metadata": {},
   "outputs": [],
   "source": [
    "from konlpy.tag import Twitter\n",
    "twitter = Twitter()"
   ]
  },
  {
   "cell_type": "code",
   "execution_count": null,
   "metadata": {},
   "outputs": [],
   "source": [
    "print(train.loc[0, 'document'])\n",
    "print(twitter.morphs(train.loc[0, 'document'], stem=True, norm=True))\n",
    "print(twitter.pos(train.loc[0, 'document']))"
   ]
  },
  {
   "cell_type": "code",
   "execution_count": null,
   "metadata": {},
   "outputs": [],
   "source": [
    "train_segs = []\n",
    "for i in range(len(train.index)):\n",
    "    if isinstance(train.loc[i, 'document'], float):\n",
    "        continue\n",
    "    tokens = twitter.morphs(train.loc[i,'document'], norm=True, stem=True)\n",
    "    train_segs.append(tokens)"
   ]
  },
  {
   "cell_type": "code",
   "execution_count": null,
   "metadata": {},
   "outputs": [],
   "source": [
    "test_segs = []\n",
    "for i in range(len(test.index)):\n",
    "    if isinstance(test.loc[i, 'document'], float):\n",
    "        continue\n",
    "    tokens = twitter.morphs(test.loc[i,'document'], norm=True, stem=True)\n",
    "    test_segs.append(tokens)"
   ]
  },
  {
   "cell_type": "code",
   "execution_count": null,
   "metadata": {},
   "outputs": [],
   "source": [
    "train_sents = []\n",
    "for i in range(len(train_segs)):\n",
    "    temp = ''\n",
    "    for j in range(len(train_segs[i])-1):\n",
    "        temp += train_segs[i][j] + ' '\n",
    "    temp += train_segs[i][len(train_segs[i])-1]\n",
    "    train_sents.append(temp)"
   ]
  },
  {
   "cell_type": "code",
   "execution_count": null,
   "metadata": {},
   "outputs": [],
   "source": [
    "test_sents = []\n",
    "for i in range(len(test_segs)):\n",
    "    temp = ''\n",
    "    for j in range(len(test_segs[i])-1):\n",
    "        temp += test_segs[i][j] + ' '\n",
    "    temp += test_segs[i][len(test_segs[i])-1]\n",
    "    test_sents.append(temp)"
   ]
  },
  {
   "cell_type": "code",
   "execution_count": null,
   "metadata": {},
   "outputs": [],
   "source": [
    "np.save('train_segs', train_segs)\n",
    "np.save('test_segs', test_segs)\n",
    "np.save('train_sents', train_sents)\n",
    "np.save('test_sents', test_sents)"
   ]
  },
  {
   "cell_type": "code",
   "execution_count": null,
   "metadata": {},
   "outputs": [],
   "source": [
    "from sklearn.feature_extraction.text import TfidfVectorizer\n",
    "from sklearn.linear_model import LogisticRegression\n",
    "vect = TfidfVectorizer(ngram_range=(1,2), min_df=2, max_df=0.8).fit(np.array(train_sents).astype('U'))\n",
    "X_train_v3 = vect.transform(np.array(train_sents).astype('U'))\n",
    "X_test_v3 = vect.transform(np.array(test_sents).astype('U'))\n",
    "logReg_v3 = LogisticRegression()\n",
    "logReg_v3.fit(X_train_v3, y_train)\n",
    "logReg_v3.score(X_test_v3, y_test)"
   ]
  },
  {
   "cell_type": "code",
   "execution_count": null,
   "metadata": {},
   "outputs": [],
   "source": [
    "from sklearn.neural_network import MLPClassifier\n",
    "neural_classifier = MLPClassifier()\n",
    "neural_classifier.fit(X_train_v3, y_train)\n",
    "neural_classifier.score(X_test_v3, y_test)"
   ]
  },
  {
   "cell_type": "code",
   "execution_count": null,
   "metadata": {},
   "outputs": [],
   "source": [
    "from sklearn.svm import SVC\n",
    "svm_classifier = SVC()\n",
    "svm_classifier.fit(X_train_v3, y_train)\n",
    "svm_classifier.score(X_train_v3, y_test)"
   ]
  },
  {
   "cell_type": "markdown",
   "metadata": {},
   "source": [
    "<h1>2. Sentiment Analysis with feed-forward neural network using tensorflow</h1>"
   ]
  },
  {
   "cell_type": "code",
   "execution_count": null,
   "metadata": {},
   "outputs": [],
   "source": [
    "import tensorflow as tf"
   ]
  },
  {
   "cell_type": "code",
   "execution_count": null,
   "metadata": {},
   "outputs": [],
   "source": [
    "from sklearn.feature_extraction.text import CountVectorizer\n",
    "from sklearn.linear_model import LogisticRegression\n",
    "vect = CountVectorizer(min_df=2, max_df=0.8).fit(np.array(train_sents).astype('U'))\n",
    "X_train_v4 = vect.transform(np.array(train_sents).astype('U'))\n",
    "X_test_v4 = vect.transform(np.array(test_sents).astype('U'))"
   ]
  },
  {
   "cell_type": "code",
   "execution_count": null,
   "metadata": {},
   "outputs": [],
   "source": [
    "n_input = X_train_v4.shape[1]\n",
    "n_output = 2\n",
    "n_hidden = 128\n",
    "learning_rate = 1e-2\n",
    "n_epoch = 5\n",
    "batch_size = 64"
   ]
  },
  {
   "cell_type": "code",
   "execution_count": null,
   "metadata": {},
   "outputs": [],
   "source": [
    "y_train = np.reshape(y_train, [y_train.shape[0], 1])\n",
    "y_test = np.reshape(y_test, [y_test.shape[0], 1])"
   ]
  },
  {
   "cell_type": "code",
   "execution_count": null,
   "metadata": {},
   "outputs": [],
   "source": [
    "y_train.shape"
   ]
  },
  {
   "cell_type": "code",
   "execution_count": null,
   "metadata": {},
   "outputs": [],
   "source": [
    "from sklearn.utils import shuffle\n",
    "shuffled_X_train, shuffled_y_train = shuffle(X_train_v4, y_train)"
   ]
  },
  {
   "cell_type": "code",
   "execution_count": null,
   "metadata": {},
   "outputs": [],
   "source": [
    "tf.reset_default_graph()\n",
    "X = tf.placeholder(tf.float32, shape=[None, n_input])\n",
    "Y = tf.placeholder(tf.int32, shape=[None, 1])"
   ]
  },
  {
   "cell_type": "code",
   "execution_count": null,
   "metadata": {},
   "outputs": [],
   "source": [
    "Y_one_hot = tf.one_hot(Y, n_output)\n",
    "Y_one_hot = tf.reshape(Y_one_hot, [-1, n_output])"
   ]
  },
  {
   "cell_type": "code",
   "execution_count": null,
   "metadata": {},
   "outputs": [],
   "source": [
    "print(shuffled_X_train.shape)\n",
    "print(shuffled_y_train.shape)"
   ]
  },
  {
   "cell_type": "code",
   "execution_count": null,
   "metadata": {},
   "outputs": [],
   "source": [
    "W1 = tf.Variable(tf.random_normal([n_input, n_hidden]))\n",
    "b1 = tf.Variable(tf.random_normal([n_hidden]))\n",
    "W2 = tf.Variable(tf.random_normal([n_hidden, n_output]))\n",
    "b2 = tf.Variable(tf.random_normal([n_output]))"
   ]
  },
  {
   "cell_type": "code",
   "execution_count": null,
   "metadata": {},
   "outputs": [],
   "source": [
    "h = tf.nn.relu(tf.matmul(X, W1) + b1)\n",
    "logits = tf.matmul(h, W2) + b2\n",
    "hypothesis = tf.nn.softmax(logits)\n",
    "cost = tf.reduce_mean(tf.nn.softmax_cross_entropy_with_logits(logits=logits, labels=Y_one_hot))\n",
    "optimizer = tf.train.AdamOptimizer(learning_rate).minimize(cost)\n",
    "prediction = tf.argmax(hypothesis, 1)\n",
    "correct = tf.equal(prediction, tf.argmax(Y_one_hot, 1))\n",
    "accuracy = tf.reduce_mean(tf.cast(correct, tf.float32))"
   ]
  },
  {
   "cell_type": "code",
   "execution_count": null,
   "metadata": {},
   "outputs": [],
   "source": [
    "sess = tf.Session()\n",
    "sess.run(tf.global_variables_initializer())\n",
    "\n",
    "for epoch in range(n_epoch):\n",
    "    total_batch = int(X_train_v4.shape[0] / batch_size)\n",
    "    cost_avg = 0\n",
    "    print('< epoch :', (epoch+1), '>')\n",
    "    for i in range(total_batch):\n",
    "        if i == (total_batch-1):\n",
    "            batch_xs = shuffled_X_train[(i*batch_size):shuffled_X_train.shape[0]].todense()\n",
    "            batch_ys = shuffled_y_train[(i*batch_size):shuffled_y_train.shape[0]]\n",
    "        else:\n",
    "            batch_xs = shuffled_X_train[i*batch_size:(i+1)*batch_size].todense()\n",
    "            batch_ys = shuffled_y_train[i*batch_size:(i+1)*batch_size]       \n",
    "        cost_val, _ = sess.run([cost, optimizer], feed_dict={X: batch_xs, Y: batch_ys})\n",
    "        cost_avg += cost_val\n",
    "        if i % 500 == 499:\n",
    "            print('%04d' % (i+1), 'Cost: ', '{:.3f}'.format(cost_avg/500))\n",
    "            cost_avg = 0"
   ]
  },
  {
   "cell_type": "code",
   "execution_count": null,
   "metadata": {},
   "outputs": [],
   "source": [
    "test_batch = int(X_test_v4.shape[0] / batch_size)\n",
    "test_acc = 0\n",
    "for i in range(test_batch):\n",
    "    if i == (test_batch-1):\n",
    "        batch_xs = X_test_v4[(i*batch_size):X_test_v4.shape[0]].todense()\n",
    "        batch_ys = y_test[(i*batch_size):len(y_test)]\n",
    "    else:\n",
    "        batch_xs = X_test_v4[i*batch_size:(i+1)*batch_size].todense()\n",
    "        batch_ys = y_test[i*batch_size:(i+1)*batch_size]       \n",
    "    acc = sess.run(accuracy, feed_dict={X: batch_xs, Y: batch_ys})\n",
    "    test_acc += acc\n",
    "print('Accuracy: ', '{:.3f}'.format(test_acc/test_batch))"
   ]
  }
 ],
 "metadata": {
  "kernelspec": {
   "display_name": "Python tensor",
   "language": "python",
   "name": "myenv"
  },
  "language_info": {
   "codemirror_mode": {
    "name": "ipython",
    "version": 3
   },
   "file_extension": ".py",
   "mimetype": "text/x-python",
   "name": "python",
   "nbconvert_exporter": "python",
   "pygments_lexer": "ipython3",
   "version": "3.6.4"
  }
 },
 "nbformat": 4,
 "nbformat_minor": 2
}
