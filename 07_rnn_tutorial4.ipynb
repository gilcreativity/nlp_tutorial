{
 "cells": [
  {
   "cell_type": "code",
   "execution_count": 1,
   "metadata": {},
   "outputs": [],
   "source": [
    "import tensorflow as tf\n",
    "import pandas as pd\n",
    "import numpy as np"
   ]
  },
  {
   "cell_type": "code",
   "execution_count": 2,
   "metadata": {},
   "outputs": [],
   "source": [
    "train = pd.read_csv('ratings_train.txt', delimiter='\\t')\n",
    "test = pd.read_csv('ratings_test.txt', delimiter='\\t')\n",
    "y_train = train.label.values\n",
    "y_test = test.label.values"
   ]
  },
  {
   "cell_type": "code",
   "execution_count": 3,
   "metadata": {},
   "outputs": [],
   "source": [
    "train_sents = np.load('train_sents.npy')\n",
    "train_segs = np.load('train_segs.npy')\n",
    "test_sents = np.load('test_sents.npy')\n",
    "test_segs = np.load('test_segs.npy')"
   ]
  },
  {
   "cell_type": "code",
   "execution_count": 4,
   "metadata": {},
   "outputs": [],
   "source": [
    "def get_max_length(seq_data):\n",
    "    max_len = 0\n",
    "    for sent in seq_data:\n",
    "        if max_len < len(sent):\n",
    "            max_len = len(sent)\n",
    "    return(max_len)"
   ]
  },
  {
   "cell_type": "code",
   "execution_count": 5,
   "metadata": {},
   "outputs": [],
   "source": [
    "max_len = 10"
   ]
  },
  {
   "cell_type": "code",
   "execution_count": 6,
   "metadata": {},
   "outputs": [],
   "source": [
    "word = []\n",
    "for sent in train_segs:\n",
    "    for seg in sent:\n",
    "        word.append(seg)"
   ]
  },
  {
   "cell_type": "code",
   "execution_count": 7,
   "metadata": {},
   "outputs": [],
   "source": [
    "word2num = {w:(i+1) for i,w in enumerate(set(word))}\n",
    "num2word = {(i+1):w for i,w in enumerate(set(word))}"
   ]
  },
  {
   "cell_type": "code",
   "execution_count": 8,
   "metadata": {},
   "outputs": [],
   "source": [
    "word2num['<UNK>'] = 0\n",
    "num2word[0] = '<UNK>'"
   ]
  },
  {
   "cell_type": "code",
   "execution_count": 9,
   "metadata": {},
   "outputs": [],
   "source": [
    "def sent2index(segs):\n",
    "    idx = []\n",
    "    for sent in segs:\n",
    "        temp = []\n",
    "        for seg in sent:\n",
    "            if seg not in word2num.keys():\n",
    "                seg = '<UNK>'\n",
    "            temp.append(word2num[seg])\n",
    "        idx.append(temp)\n",
    "    return idx"
   ]
  },
  {
   "cell_type": "code",
   "execution_count": 10,
   "metadata": {},
   "outputs": [],
   "source": [
    "train_idx = sent2index(train_segs)\n",
    "test_idx = sent2index(test_segs)"
   ]
  },
  {
   "cell_type": "code",
   "execution_count": 11,
   "metadata": {},
   "outputs": [],
   "source": [
    "def get_seq_length(seq_data, max_len):\n",
    "    seq_len = []\n",
    "    for seq in seq_data:\n",
    "        if max_len <= len(seq):\n",
    "            seq_len.append(max_len)\n",
    "        else:\n",
    "            seq_len.append(len(seq))\n",
    "    return seq_len"
   ]
  },
  {
   "cell_type": "code",
   "execution_count": 12,
   "metadata": {},
   "outputs": [],
   "source": [
    "def give_zero_padding(seq_data, max_len):\n",
    "    seq_ = []\n",
    "    for seq in seq_data:\n",
    "        temp = seq\n",
    "        if len(temp) > max_len:\n",
    "            temp = seq[:max_len]\n",
    "        for _ in range(len(temp), max_len):\n",
    "            temp.append(0)\n",
    "        seq_.append(temp)\n",
    "    return seq_"
   ]
  },
  {
   "cell_type": "code",
   "execution_count": 13,
   "metadata": {},
   "outputs": [],
   "source": [
    "train_idx = give_zero_padding(train_idx, max_len)\n",
    "test_idx = give_zero_padding(test_idx, max_len)"
   ]
  },
  {
   "cell_type": "code",
   "execution_count": 30,
   "metadata": {},
   "outputs": [],
   "source": [
    "learning_rate = 0.001\n",
    "n_hidden = 128\n",
    "n_epoch = 1\n",
    "n_embedding = 300\n",
    "n_step = max_len\n",
    "n_input = 300\n",
    "n_vocab = len(word2num)\n",
    "batch_size = 64\n",
    "n_output = 2"
   ]
  },
  {
   "cell_type": "code",
   "execution_count": 42,
   "metadata": {},
   "outputs": [],
   "source": [
    "tf.reset_default_graph()\n",
    "X = tf.placeholder(dtype=tf.int32, shape=[None, n_step])\n",
    "Y = tf.placeholder(dtype=tf.int32, shape=[None])\n",
    "embedding = tf.get_variable(name=\"embedding\", shape=[n_vocab, n_embedding], dtype=tf.float32)\n",
    "seq_len = tf.placeholder(dtype=tf.int32, shape=[None])\n",
    "inputs = tf.nn.embedding_lookup(embedding, X)"
   ]
  },
  {
   "cell_type": "code",
   "execution_count": 43,
   "metadata": {},
   "outputs": [],
   "source": [
    "W = tf.get_variable(name=\"weights\", shape=[2*n_hidden, n_output])\n",
    "b = tf.get_variable(name=\"bias\", shape=[n_output])"
   ]
  },
  {
   "cell_type": "code",
   "execution_count": 44,
   "metadata": {},
   "outputs": [],
   "source": [
    "cell = tf.nn.rnn_cell.LSTMCell(n_hidden)\n",
    "cell = tf.nn.rnn_cell.DropoutWrapper(cell, output_keep_prob=0.5)"
   ]
  },
  {
   "cell_type": "code",
   "execution_count": 45,
   "metadata": {},
   "outputs": [],
   "source": [
    "outputs, states = tf.nn.dynamic_rnn(cell, inputs, sequence_length=seq_len, dtype=tf.float32)\n",
    "#idx = tf.range(tf.shape(outputs)[0])*tf.shape(outputs)[1] + (seq_len - 1)\n",
    "#idx = tf.cast(tf.reduce_sum(tf.one_hot(idx, tf.shape(outputs)[0]*tf.shape(outputs)[1]), 0), tf.int32)\n",
    "#outputs = tf.dynamic_partition(tf.reshape(outputs, [-1, n_hidden]), idx, 2)\n",
    "#last_outputs = outputs[1]"
   ]
  },
  {
   "cell_type": "code",
   "execution_count": 46,
   "metadata": {},
   "outputs": [],
   "source": [
    "states = tf.concat([states.c, states.h], 1)"
   ]
  },
  {
   "cell_type": "code",
   "execution_count": 47,
   "metadata": {},
   "outputs": [],
   "source": [
    "logits = tf.matmul(states, W) + b\n",
    "preds = tf.cast(tf.argmax(logits, 1), tf.int32)\n",
    "correct = tf.equal(preds, Y)\n",
    "accuracy = tf.reduce_mean(tf.cast(correct, tf.float32))\n",
    "cost = tf.reduce_mean(tf.nn.sparse_softmax_cross_entropy_with_logits(logits=logits, labels=Y))\n",
    "optimizer = tf.train.AdamOptimizer(learning_rate).minimize(cost)"
   ]
  },
  {
   "cell_type": "code",
   "execution_count": 48,
   "metadata": {},
   "outputs": [
    {
     "name": "stdout",
     "output_type": "stream",
     "text": [
      "< epoch : 1 >\n",
      "0500 Cost:  0.492\n",
      "1000 Cost:  0.439\n",
      "1500 Cost:  0.419\n",
      "2000 Cost:  0.409\n"
     ]
    }
   ],
   "source": [
    "config = tf.ConfigProto()\n",
    "config.gpu_options.allow_growth = True\n",
    "sess = tf.Session(config=config)\n",
    "sess.run(tf.global_variables_initializer())\n",
    "total_batch = int(len(train_idx) / batch_size)\n",
    "\n",
    "for epoch in range(n_epoch):\n",
    "    cost_avg = 0\n",
    "    print('< epoch :', (epoch+1), '>')\n",
    "    for i in range(total_batch):\n",
    "        if i == (total_batch-1):\n",
    "            batch_xs = train_idx[(i*batch_size):len(train_idx)]\n",
    "            batch_ys = y_train[(i*batch_size):len(train_idx)]\n",
    "            seq_length_data = get_seq_length(train_segs[(i*batch_size):len(train_idx)], max_len)\n",
    "        else:\n",
    "            batch_xs = train_idx[i*batch_size:(i+1)*batch_size]\n",
    "            batch_ys = y_train[i*batch_size:(i+1)*batch_size]\n",
    "            seq_length_data = get_seq_length(train_segs[(i*batch_size):(i+1)*batch_size], max_len)\n",
    "        cost_val, _ = sess.run([cost, optimizer], feed_dict={X: batch_xs, Y: batch_ys, seq_len: seq_length_data})\n",
    "        cost_avg += cost_val\n",
    "        if i % 500 == 499:\n",
    "            print('%04d' % (i+1), 'Cost: ', '{:.3f}'.format(cost_avg/500))\n",
    "            cost_avg = 0"
   ]
  },
  {
   "cell_type": "code",
   "execution_count": 49,
   "metadata": {},
   "outputs": [
    {
     "name": "stdout",
     "output_type": "stream",
     "text": [
      "Accuracy:  0.813\n"
     ]
    }
   ],
   "source": [
    "test_batch = int(len(test_idx) / batch_size)\n",
    "test_acc = 0\n",
    "\n",
    "for i in range(test_batch):\n",
    "    if i == (test_batch-1):\n",
    "        batch_xs = test_idx[(i*batch_size):len(test_idx)]\n",
    "        batch_ys = y_test[(i*batch_size):len(test_idx)]\n",
    "        seq_length_data = get_seq_length(test_segs[(i*batch_size):len(test_idx)], max_len)\n",
    "    else:\n",
    "        batch_xs = test_idx[i*batch_size:(i+1)*batch_size]\n",
    "        batch_ys = y_test[i*batch_size:(i+1)*batch_size]\n",
    "        seq_length_data = get_seq_length(test_segs[(i*batch_size):(i+1)*batch_size], max_len)\n",
    "    acc = sess.run(accuracy, feed_dict={X: batch_xs, Y: batch_ys, seq_len: seq_length_data})\n",
    "    test_acc += acc\n",
    "print('Accuracy: ', '{:.3f}'.format(test_acc/test_batch))"
   ]
  },
  {
   "cell_type": "code",
   "execution_count": 23,
   "metadata": {},
   "outputs": [],
   "source": [
    "sess.close()"
   ]
  }
 ],
 "metadata": {
  "kernelspec": {
   "display_name": "Python tensor",
   "language": "python",
   "name": "myenv"
  },
  "language_info": {
   "codemirror_mode": {
    "name": "ipython",
    "version": 3
   },
   "file_extension": ".py",
   "mimetype": "text/x-python",
   "name": "python",
   "nbconvert_exporter": "python",
   "pygments_lexer": "ipython3",
   "version": "3.6.5"
  }
 },
 "nbformat": 4,
 "nbformat_minor": 2
}
