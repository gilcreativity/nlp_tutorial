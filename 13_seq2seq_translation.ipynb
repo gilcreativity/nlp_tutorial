{
 "cells": [
  {
   "cell_type": "code",
   "execution_count": null,
   "metadata": {},
   "outputs": [],
   "source": [
    "import tensorflow as tf\n",
    "import numpy as np\n",
    "import pandas as pd\n",
    "import re"
   ]
  },
  {
   "cell_type": "code",
   "execution_count": null,
   "metadata": {},
   "outputs": [],
   "source": [
    "english = []\n",
    "korean = []\n",
    "count = 50\n",
    "with open('korean-english-park.train.en', 'r', encoding='utf8') as f:\n",
    "    for i, line in enumerate(f):\n",
    "        english.append(line)\n",
    "        if i-1 == count:\n",
    "            break\n",
    "\n",
    "with open('korean-english-park.train.ko', 'r', encoding='utf8') as f:\n",
    "    for i, line in enumerate(f):\n",
    "        korean.append(line)\n",
    "        if i-1 == count:\n",
    "            break"
   ]
  },
  {
   "cell_type": "code",
   "execution_count": null,
   "metadata": {},
   "outputs": [],
   "source": [
    "for i in range(len(english)):\n",
    "    english[i] = re.sub('\\n', '', english[i])\n",
    "for i in range(len(korean)):\n",
    "    korean[i] = re.sub('\\n', '', korean[i])"
   ]
  },
  {
   "cell_type": "code",
   "execution_count": null,
   "metadata": {},
   "outputs": [],
   "source": [
    "for i in range(len(english)):\n",
    "    english[i] = english[i].split()\n",
    "for i in range(len(korean)):\n",
    "    korean[i] = korean[i].split()"
   ]
  },
  {
   "cell_type": "code",
   "execution_count": null,
   "metadata": {},
   "outputs": [],
   "source": [
    "seq_data = np.stack((english, korean), 1)"
   ]
  },
  {
   "cell_type": "code",
   "execution_count": null,
   "metadata": {},
   "outputs": [],
   "source": [
    "word_arr = []\n",
    "for seq in english:\n",
    "    word_arr += seq\n",
    "word_arr += ['<P>']\n",
    "en_word2num = {c:i for i, c in enumerate(set(word_arr))}\n",
    "en_num2word = {i:c for i, c in enumerate(en_word2num.keys())}"
   ]
  },
  {
   "cell_type": "code",
   "execution_count": null,
   "metadata": {},
   "outputs": [],
   "source": [
    "word_arr = []\n",
    "for seq in korean:\n",
    "    word_arr += seq\n",
    "word_arr += ['<S>', '</S>', '<P>']\n",
    "ko_word2num = {c:i for i, c in enumerate(set(word_arr))}\n",
    "ko_num2word = {i:c for i, c in enumerate(ko_word2num.keys())}"
   ]
  },
  {
   "cell_type": "code",
   "execution_count": null,
   "metadata": {},
   "outputs": [],
   "source": [
    "def get_max_length(seq_data):\n",
    "    max_len = 0\n",
    "    for seq in seq_data:\n",
    "        if max_len < len(seq):\n",
    "            max_len = len(seq)\n",
    "    return max_len"
   ]
  },
  {
   "cell_type": "code",
   "execution_count": null,
   "metadata": {},
   "outputs": [],
   "source": [
    "def make_batch(seq_data, enc_max_len, dec_max_len):\n",
    "    input_batch = []\n",
    "    output_batch = []\n",
    "    target_batch = []\n",
    "    for i, seq in enumerate(seq_data):\n",
    "        input = []\n",
    "        output = []\n",
    "        target = []\n",
    "        for token in seq[0]:\n",
    "            input.append(en_word2num[token])\n",
    "        for _ in range(len(seq[0]), enc_max_len):\n",
    "            input.append(en_word2num['<P>'])\n",
    "        input_batch.append(input)\n",
    "        output.append(ko_word2num['<S>'])\n",
    "        for token in seq[1]:\n",
    "            output.append(ko_word2num[token])\n",
    "            target.append(ko_word2num[token])\n",
    "        target.append(ko_word2num['</S>'])\n",
    "        for _ in range(len(seq[1]), dec_max_len):\n",
    "            output.append(ko_word2num['</S>'])\n",
    "            target.append(ko_word2num['</S>'])\n",
    "                \n",
    "        output_batch.append(output)\n",
    "        target_batch.append(target)\n",
    "\n",
    "    return input_batch, output_batch, target_batch"
   ]
  },
  {
   "cell_type": "code",
   "execution_count": null,
   "metadata": {},
   "outputs": [],
   "source": [
    "def get_seq_length(seq_data):\n",
    "    seq_len = []\n",
    "    for i, seq in enumerate(seq_data):\n",
    "        seq_len.append(len(seq))\n",
    "    return seq_len"
   ]
  },
  {
   "cell_type": "code",
   "execution_count": null,
   "metadata": {},
   "outputs": [],
   "source": [
    "learning_rate = 1e-3\n",
    "n_hidden = 128\n",
    "max_enc_step = get_max_length(english)\n",
    "max_dec_step = get_max_length(korean)\n",
    "n_embedding = 300\n",
    "total_epoch = 500\n",
    "batch_size = count\n",
    "en_dic_len = len(en_word2num)\n",
    "ko_dic_len = len(ko_word2num)"
   ]
  },
  {
   "cell_type": "code",
   "execution_count": null,
   "metadata": {},
   "outputs": [],
   "source": [
    "tf.reset_default_graph()\n",
    "enc_input = tf.placeholder(tf.int32, [None, max_enc_step])\n",
    "dec_input = tf.placeholder(tf.int32, [None, max_dec_step+1])\n",
    "targets = tf.placeholder(tf.int64, [None, max_dec_step+1])\n",
    "W = tf.get_variable(name='encode_embedding', shape=[en_dic_len, n_embedding], trainable=True)\n",
    "W_ = tf.get_variable(name='decode_embedding', shape=[ko_dic_len, n_embedding], trainable=True)\n",
    "enc_seq_len = tf.placeholder(dtype=tf.int32, shape=[None])\n",
    "dec_seq_len = tf.placeholder(dtype=tf.int32, shape=[None])\n",
    "enc_inputs = tf.nn.embedding_lookup(W, enc_input)\n",
    "dec_inputs = tf.nn.embedding_lookup(W_, dec_input)"
   ]
  },
  {
   "cell_type": "code",
   "execution_count": null,
   "metadata": {},
   "outputs": [],
   "source": [
    "with tf.variable_scope('encode'):\n",
    "    enc_cell = tf.nn.rnn_cell.BasicLSTMCell(n_hidden)\n",
    "    #enc_cell = tf.nn.rnn_cell.DropoutWrapper(enc_cell, output_keep_prob=0.5)\n",
    "    outputs, enc_states = tf.nn.dynamic_rnn(enc_cell, enc_inputs, sequence_length=enc_seq_len, dtype=tf.float32)"
   ]
  },
  {
   "cell_type": "code",
   "execution_count": null,
   "metadata": {},
   "outputs": [],
   "source": [
    "with tf.variable_scope('decode'):\n",
    "    dec_cell = tf.nn.rnn_cell.BasicLSTMCell(n_hidden)\n",
    "    #dec_cell = tf.nn.rnn_cell.DropoutWrapper(dec_cell, output_keep_prob=0.5)\n",
    "    outputs, dec_states = tf.nn.dynamic_rnn(dec_cell, dec_inputs, initial_state = enc_states, dtype=tf.float32)"
   ]
  },
  {
   "cell_type": "code",
   "execution_count": null,
   "metadata": {},
   "outputs": [],
   "source": [
    "logits = tf.layers.dense(outputs, ko_dic_len, activation=None)"
   ]
  },
  {
   "cell_type": "code",
   "execution_count": null,
   "metadata": {},
   "outputs": [],
   "source": [
    "outputs.shape"
   ]
  },
  {
   "cell_type": "code",
   "execution_count": null,
   "metadata": {},
   "outputs": [],
   "source": [
    "cost = tf.reduce_mean(tf.contrib.seq2seq.sequence_loss(logits=logits, targets=targets, weights=tf.sequence_mask(dec_seq_len+1, max_dec_step+1, dtype=tf.float32)))\n",
    "predict = tf.argmax(logits, 2)"
   ]
  },
  {
   "cell_type": "code",
   "execution_count": null,
   "metadata": {},
   "outputs": [],
   "source": [
    "optimizer = tf.train.AdamOptimizer(learning_rate).minimize(cost)"
   ]
  },
  {
   "cell_type": "code",
   "execution_count": null,
   "metadata": {},
   "outputs": [],
   "source": [
    "config = tf.ConfigProto()\n",
    "config.gpu_options.allow_growth = True\n",
    "sess = tf.Session(config=config)\n",
    "sess = tf.Session()\n",
    "sess.run(tf.global_variables_initializer())\n",
    "total_batch = int(len(seq_data)/batch_size)\n",
    "for epoch in range(total_epoch):\n",
    "    loss_sum = 0\n",
    "    #print('< epoch:', epoch+1, '>')\n",
    "    for i in range(total_batch):\n",
    "        if i == (total_batch-1):\n",
    "            input_batch, output_batch, target_batch = make_batch(seq_data[i*batch_size:len(seq_data)], max_enc_step, max_dec_step)\n",
    "            enc_seq_data = get_seq_length(english[i*batch_size:len(seq_data)])\n",
    "            dec_seq_data = get_seq_length(korean[i*batch_size:len(seq_data)])\n",
    "        else:\n",
    "            input_batch, output_batch, target_batch = make_batch(seq_data[i*batch_size:(i+1)*batch_size], max_enc_step, max_dec_step)\n",
    "            enc_seq_data = get_seq_length(english[i*batch_size:(i+1)*batch_size])\n",
    "            dec_seq_data = get_seq_length(korean[i*batch_size:(i+1)*batch_size])\n",
    "        \n",
    "        _, loss = sess.run([optimizer, cost], feed_dict={enc_input: input_batch, dec_input: output_batch, targets: target_batch, enc_seq_len: enc_seq_data, dec_seq_len: dec_seq_data})\n",
    "        loss_sum += loss\n",
    "        #if i % 30 == 29:\n",
    "        #    print('batch:', '%03d' % (i+1), 'cost =', '{:.6f}'.format(loss_sum/30))\n",
    "        #    loss_sum = 0\n",
    "    if epoch % 50 == 49:\n",
    "        print('epoch:', '%03d' % (epoch+1), 'cost =', '{:.6f}'.format(loss_sum/50))\n",
    "        \n",
    "print('optimization finished!')"
   ]
  },
  {
   "cell_type": "code",
   "execution_count": null,
   "metadata": {},
   "outputs": [],
   "source": [
    "def translate(english):\n",
    "    english = [english]\n",
    "    korean = [['<P>']*max_dec_step]\n",
    "    seq_data = [english + korean]\n",
    "    input_batch, output_batch, target_batch = make_batch(seq_data, max_enc_step, max_dec_step)\n",
    "    enc_seq_data = get_seq_length(english)\n",
    "    dec_seq_data = get_seq_length(korean)\n",
    "    result = sess.run(predict, feed_dict={enc_input: input_batch, dec_input: output_batch, targets: target_batch, enc_seq_len: enc_seq_data, dec_seq_len: dec_seq_data})\n",
    "    decoded = [ko_num2word[j] for j in np.squeeze(result)]\n",
    "    end = len(decoded)-1\n",
    "    if '</S>' in decoded:\n",
    "        end = decoded.index('</S>')\n",
    "    translated = ' '.join(decoded[:end])\n",
    "    return translated"
   ]
  },
  {
   "cell_type": "code",
   "execution_count": null,
   "metadata": {},
   "outputs": [],
   "source": [
    "for i, seq in enumerate(english):\n",
    "    temp = ''\n",
    "    for token in seq:\n",
    "        temp += token + ' '\n",
    "    #print(temp)\n",
    "    print(temp, '\\n->', translate(seq), '\\n')\n",
    "    if i == 10:\n",
    "        break"
   ]
  }
 ],
 "metadata": {
  "kernelspec": {
   "display_name": "Python tensor",
   "language": "python",
   "name": "tensor"
  },
  "language_info": {
   "codemirror_mode": {
    "name": "ipython",
    "version": 3
   },
   "file_extension": ".py",
   "mimetype": "text/x-python",
   "name": "python",
   "nbconvert_exporter": "python",
   "pygments_lexer": "ipython3",
   "version": "3.6.5"
  }
 },
 "nbformat": 4,
 "nbformat_minor": 2
}
