{
 "cells": [
  {
   "cell_type": "markdown",
   "metadata": {},
   "source": [
    "<h1>Logistic Regression with distributed representation word embedding</h1>"
   ]
  },
  {
   "cell_type": "code",
   "execution_count": 1,
   "metadata": {},
   "outputs": [
    {
     "name": "stderr",
     "output_type": "stream",
     "text": [
      "C:\\Users\\RYU\\Anaconda3\\envs\\tensor\\lib\\site-packages\\gensim\\utils.py:1197: UserWarning: detected Windows; aliasing chunkize to chunkize_serial\n",
      "  warnings.warn(\"detected Windows; aliasing chunkize to chunkize_serial\")\n"
     ]
    }
   ],
   "source": [
    "import numpy as np\n",
    "import pandas as pd\n",
    "from scipy.sparse import find\n",
    "import gensim\n",
    "import tensorflow as tf"
   ]
  },
  {
   "cell_type": "code",
   "execution_count": 2,
   "metadata": {},
   "outputs": [],
   "source": [
    "train = pd.read_csv('ratings_train.txt', delimiter='\\t')\n",
    "test = pd.read_csv('ratings_test.txt', delimiter='\\t')\n",
    "y_train = train.label.values\n",
    "y_test = test.label.values"
   ]
  },
  {
   "cell_type": "code",
   "execution_count": 3,
   "metadata": {},
   "outputs": [],
   "source": [
    "model = gensim.models.Word2Vec.load('./vectors.bin')"
   ]
  },
  {
   "cell_type": "code",
   "execution_count": 4,
   "metadata": {},
   "outputs": [],
   "source": [
    "word_vectors = model.wv"
   ]
  },
  {
   "cell_type": "code",
   "execution_count": 5,
   "metadata": {},
   "outputs": [],
   "source": [
    "train_segs = np.load('train_segs.npy')\n",
    "test_segs = np.load('test_segs.npy')"
   ]
  },
  {
   "cell_type": "code",
   "execution_count": 6,
   "metadata": {},
   "outputs": [
    {
     "data": {
      "text/plain": [
       "['아', '더빙', '..', '진짜', '짜증', '나네', '요', '목소리']"
      ]
     },
     "execution_count": 6,
     "metadata": {},
     "output_type": "execute_result"
    }
   ],
   "source": [
    "train_segs[0]"
   ]
  },
  {
   "cell_type": "code",
   "execution_count": 7,
   "metadata": {},
   "outputs": [],
   "source": [
    "word = []\n",
    "for sent in train_segs:\n",
    "    for seg in sent:\n",
    "        word.append(seg)"
   ]
  },
  {
   "cell_type": "code",
   "execution_count": 8,
   "metadata": {},
   "outputs": [],
   "source": [
    "word2num = {w:(i+1) for i,w in enumerate(set(word))}\n",
    "num2word = {(i+1):w for i,w in enumerate(set(word))}"
   ]
  },
  {
   "cell_type": "code",
   "execution_count": 9,
   "metadata": {},
   "outputs": [
    {
     "data": {
      "text/plain": [
       "61589"
      ]
     },
     "execution_count": 9,
     "metadata": {},
     "output_type": "execute_result"
    }
   ],
   "source": [
    "len(word2num)"
   ]
  },
  {
   "cell_type": "code",
   "execution_count": 10,
   "metadata": {},
   "outputs": [],
   "source": [
    "embedding_vector = [np.zeros(shape=300)]\n",
    "for i, w in enumerate(word2num.keys()):\n",
    "    if w not in word_vectors.vocab:\n",
    "        embedding_vector += [np.zeros(shape=300)] #[np.random.normal(scale=1e-2, size=300)]\n",
    "    else:\n",
    "        embedding_vector += [word_vectors[w]]"
   ]
  },
  {
   "cell_type": "code",
   "execution_count": 11,
   "metadata": {},
   "outputs": [
    {
     "data": {
      "text/plain": [
       "61590"
      ]
     },
     "execution_count": 11,
     "metadata": {},
     "output_type": "execute_result"
    }
   ],
   "source": [
    "len(embedding_vector)"
   ]
  },
  {
   "cell_type": "code",
   "execution_count": 12,
   "metadata": {},
   "outputs": [
    {
     "data": {
      "text/plain": [
       "34371"
      ]
     },
     "execution_count": 12,
     "metadata": {},
     "output_type": "execute_result"
    }
   ],
   "source": [
    "len(word_vectors.vocab)"
   ]
  },
  {
   "cell_type": "code",
   "execution_count": 13,
   "metadata": {},
   "outputs": [],
   "source": [
    "word2num['<UNK>'] = 0\n",
    "num2word[0] = '<UNK>'"
   ]
  },
  {
   "cell_type": "code",
   "execution_count": 14,
   "metadata": {},
   "outputs": [],
   "source": [
    "def sent2index(segs):\n",
    "    idx = []\n",
    "    for sent in segs:\n",
    "        temp = []\n",
    "        for seg in sent:\n",
    "            if seg not in word2num.keys():\n",
    "                seg = '<UNK>'\n",
    "            temp.append(word2num[seg])\n",
    "        idx.append(temp)\n",
    "    return idx"
   ]
  },
  {
   "cell_type": "code",
   "execution_count": 15,
   "metadata": {},
   "outputs": [],
   "source": [
    "train_idx = sent2index(train_segs)\n",
    "test_idx = sent2index(test_segs)"
   ]
  },
  {
   "cell_type": "code",
   "execution_count": 16,
   "metadata": {},
   "outputs": [],
   "source": [
    "def idx2EmbedSum(idxSet, embedding_vector):\n",
    "    sum_w2v = []\n",
    "    for idxes in idxSet:\n",
    "        temp = np.zeros(shape=300)\n",
    "        for idx in idxes:\n",
    "            temp += embedding_vector[idx]\n",
    "        sum_w2v.append(temp)\n",
    "    return sum_w2v"
   ]
  },
  {
   "cell_type": "code",
   "execution_count": 17,
   "metadata": {},
   "outputs": [],
   "source": [
    "X_train_w2v = idx2EmbedSum(train_idx, embedding_vector)\n",
    "X_test_w2v = idx2EmbedSum(test_idx, embedding_vector)"
   ]
  },
  {
   "cell_type": "code",
   "execution_count": null,
   "metadata": {},
   "outputs": [],
   "source": [
    "from sklearn.linear_model import LogisticRegression\n",
    "logReg = LogisticRegression()\n",
    "logReg.fit(X_train_w2v, y_train)"
   ]
  },
  {
   "cell_type": "code",
   "execution_count": null,
   "metadata": {},
   "outputs": [],
   "source": [
    "print(logReg.score(X_train_w2v, y_train))\n",
    "print(logReg.score(X_test_w2v, y_test))"
   ]
  },
  {
   "cell_type": "code",
   "execution_count": 1,
   "metadata": {},
   "outputs": [],
   "source": [
    "n_output = 2\n",
    "n_embedding = 300\n",
    "n_hidden = 128\n",
    "learning_rate = 1e-3\n",
    "n_epoch = 10\n",
    "batch_size = 64"
   ]
  },
  {
   "cell_type": "code",
   "execution_count": 29,
   "metadata": {},
   "outputs": [],
   "source": [
    "tf.reset_default_graph()\n",
    "X = tf.placeholder(tf.float32, shape=[None, n_embedding])\n",
    "Y = tf.placeholder(tf.int32, shape=[None])"
   ]
  },
  {
   "cell_type": "code",
   "execution_count": 30,
   "metadata": {},
   "outputs": [],
   "source": [
    "W1 = tf.Variable(tf.truncated_normal([n_embedding, n_hidden]))\n",
    "b1 = tf.Variable(tf.truncated_normal([n_hidden]))\n",
    "W2 = tf.Variable(tf.truncated_normal([n_hidden, n_output]))\n",
    "b2 = tf.Variable(tf.truncated_normal([n_output]))"
   ]
  },
  {
   "cell_type": "code",
   "execution_count": 31,
   "metadata": {},
   "outputs": [],
   "source": [
    "h = tf.nn.relu(tf.matmul(X, W1) + b1)\n",
    "logits = tf.matmul(h, W2) + b2\n",
    "hypothesis = tf.nn.softmax(logits)\n",
    "cost = tf.reduce_mean(tf.nn.sparse_softmax_cross_entropy_with_logits(logits=logits, labels=Y))\n",
    "optimizer = tf.train.AdamOptimizer(learning_rate).minimize(cost)\n",
    "prediction = tf.cast(tf.argmax(hypothesis, 1), tf.int32)\n",
    "correct_prediction = tf.equal(prediction, Y)\n",
    "accuracy = tf.reduce_mean(tf.cast(correct_prediction, tf.float32))"
   ]
  },
  {
   "cell_type": "code",
   "execution_count": 32,
   "metadata": {},
   "outputs": [
    {
     "name": "stdout",
     "output_type": "stream",
     "text": [
      "< epoch : 1 >\n",
      "1000 Cost:  114.748\n",
      "2000 Cost:  55.663\n",
      "< epoch : 2 >\n",
      "1000 Cost:  34.810\n",
      "2000 Cost:  28.195\n",
      "< epoch : 3 >\n",
      "1000 Cost:  20.718\n",
      "2000 Cost:  18.202\n",
      "< epoch : 4 >\n",
      "1000 Cost:  14.179\n",
      "2000 Cost:  12.895\n",
      "< epoch : 5 >\n",
      "1000 Cost:  11.081\n",
      "2000 Cost:  10.169\n",
      "< epoch : 6 >\n",
      "1000 Cost:  8.958\n",
      "2000 Cost:  8.598\n",
      "< epoch : 7 >\n",
      "1000 Cost:  7.944\n",
      "2000 Cost:  7.659\n",
      "< epoch : 8 >\n",
      "1000 Cost:  7.432\n",
      "2000 Cost:  6.621\n",
      "< epoch : 9 >\n",
      "1000 Cost:  6.593\n",
      "2000 Cost:  6.345\n",
      "< epoch : 10 >\n",
      "1000 Cost:  6.356\n",
      "2000 Cost:  5.831\n",
      "< epoch : 11 >\n",
      "1000 Cost:  5.867\n",
      "2000 Cost:  5.346\n",
      "< epoch : 12 >\n",
      "1000 Cost:  5.637\n",
      "2000 Cost:  5.250\n",
      "< epoch : 13 >\n",
      "1000 Cost:  5.122\n",
      "2000 Cost:  5.027\n",
      "< epoch : 14 >\n",
      "1000 Cost:  5.239\n",
      "2000 Cost:  5.090\n",
      "< epoch : 15 >\n",
      "1000 Cost:  4.817\n",
      "2000 Cost:  4.460\n",
      "< epoch : 16 >\n",
      "1000 Cost:  4.564\n",
      "2000 Cost:  4.441\n",
      "< epoch : 17 >\n",
      "1000 Cost:  4.273\n",
      "2000 Cost:  4.324\n",
      "< epoch : 18 >\n",
      "1000 Cost:  4.207\n",
      "2000 Cost:  4.254\n",
      "< epoch : 19 >\n",
      "1000 Cost:  4.133\n",
      "2000 Cost:  4.166\n",
      "< epoch : 20 >\n",
      "1000 Cost:  4.446\n",
      "2000 Cost:  3.888\n",
      "< epoch : 21 >\n",
      "1000 Cost:  4.172\n",
      "2000 Cost:  3.908\n",
      "< epoch : 22 >\n",
      "1000 Cost:  4.137\n",
      "2000 Cost:  3.600\n",
      "< epoch : 23 >\n",
      "1000 Cost:  3.826\n",
      "2000 Cost:  3.854\n",
      "< epoch : 24 >\n",
      "1000 Cost:  4.085\n",
      "2000 Cost:  3.643\n",
      "< epoch : 25 >\n",
      "1000 Cost:  3.842\n",
      "2000 Cost:  3.580\n",
      "< epoch : 26 >\n",
      "1000 Cost:  3.535\n",
      "2000 Cost:  3.477\n",
      "< epoch : 27 >\n",
      "1000 Cost:  3.957\n",
      "2000 Cost:  3.584\n",
      "< epoch : 28 >\n",
      "1000 Cost:  3.441\n",
      "2000 Cost:  3.348\n",
      "< epoch : 29 >\n",
      "1000 Cost:  3.494\n",
      "2000 Cost:  3.293\n",
      "< epoch : 30 >\n",
      "1000 Cost:  3.390\n",
      "2000 Cost:  3.190\n"
     ]
    }
   ],
   "source": [
    "sess = tf.Session()\n",
    "sess.run(tf.global_variables_initializer())\n",
    "\n",
    "for epoch in range(n_epoch):\n",
    "    total_batch = int(len(X_train_w2v) / batch_size)\n",
    "    cost_avg = 0\n",
    "    print('< epoch :', (epoch+1), '>')\n",
    "    for i in range(total_batch):\n",
    "        if i == (total_batch-1):\n",
    "            batch_xs = X_train_w2v[(i*batch_size):len(X_train_w2v)]\n",
    "            batch_ys = y_train[(i*batch_size):len(y_train)]\n",
    "        else:\n",
    "            batch_xs = X_train_w2v[i*batch_size:(i+1)*batch_size]\n",
    "            batch_ys = y_train[i*batch_size:(i+1)*batch_size]       \n",
    "        cost_val, _ = sess.run([cost, optimizer], feed_dict={X: batch_xs, Y: batch_ys})\n",
    "        cost_avg += cost_val\n",
    "        if i % 1000 == 999:\n",
    "            print('%04d' % (i+1), 'Cost: ', '{:.3f}'.format(cost_avg/500))\n",
    "            cost_avg = 0"
   ]
  },
  {
   "cell_type": "code",
   "execution_count": 33,
   "metadata": {},
   "outputs": [
    {
     "name": "stdout",
     "output_type": "stream",
     "text": [
      "Accuracy:  0.726\n"
     ]
    }
   ],
   "source": [
    "test_batch = int(len(X_test_w2v) / batch_size)\n",
    "test_acc = 0\n",
    "for i in range(test_batch):\n",
    "    if i == (test_batch-1):\n",
    "        batch_xs = X_test_w2v[(i*batch_size):len(X_test_w2v)]\n",
    "        batch_ys = y_test[(i*batch_size):y_test.shape[0]]\n",
    "    else:\n",
    "        batch_xs = X_test_w2v[i*batch_size:(i+1)*batch_size]\n",
    "        batch_ys = y_test[i*batch_size:(i+1)*batch_size]       \n",
    "    acc = sess.run(accuracy, feed_dict={X: batch_xs, Y: batch_ys})\n",
    "    test_acc += acc\n",
    "print('Accuracy: ', '{:.3f}'.format(test_acc/test_batch))"
   ]
  }
 ],
 "metadata": {
  "kernelspec": {
   "display_name": "Python tensor",
   "language": "python",
   "name": "myenv"
  },
  "language_info": {
   "codemirror_mode": {
    "name": "ipython",
    "version": 3
   },
   "file_extension": ".py",
   "mimetype": "text/x-python",
   "name": "python",
   "nbconvert_exporter": "python",
   "pygments_lexer": "ipython3",
   "version": "3.6.4"
  }
 },
 "nbformat": 4,
 "nbformat_minor": 2
}
